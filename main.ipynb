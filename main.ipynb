{
 "cells": [
  {
   "cell_type": "code",
   "execution_count": 12,
   "id": "initial_id",
   "metadata": {
    "collapsed": true,
    "ExecuteTime": {
     "end_time": "2024-07-22T15:06:25.574676800Z",
     "start_time": "2024-07-22T15:06:25.559678200Z"
    }
   },
   "outputs": [
    {
     "data": {
      "text/plain": "Config(llm_config={'openai': LLMConfig(provider='openai', base_url='http://localhost:3000/v1', api_key='sk-IIbJeDBOzGgWGGyZ0b64Ae6b61C84675B484825cE99c3c41', temperature=None)}, prompt_template_config=PromptTemplateConfig(paths=['core/prompt/prompts']))"
     },
     "execution_count": 12,
     "metadata": {},
     "output_type": "execute_result"
    }
   ],
   "source": [
    "from core.config.config_loader import ConfigLoader\n",
    "from core.prompt.prompt_loader import PromptLoader\n",
    "\n",
    "ConfigLoader.from_file(\"./config.yaml\")"
   ]
  },
  {
   "cell_type": "code",
   "outputs": [
    {
     "name": "stdout",
     "output_type": "stream",
     "text": [
      "你拥有如下工具：\n",
      "## add\n",
      "工具描述：加法运算\n",
      "工具参数：{'a': {'type': 'number', 'description': '加数'}, 'b': {'type': 'number', 'description': '被加数'}}\n",
      "## add1\n",
      "工具描述：加法运算\n",
      "工具参数：{'a': {'type': 'number', 'description': '加数'}, 'b': {'type': 'number', 'description': '被加数'}}\n",
      "\n",
      "你只被允许使用[add, add1]中的工具。\n",
      "你可以同时使用多个工具，但是需要注意每一个工具的调用次序。\n"
     ]
    }
   ],
   "source": [
    "print(PromptLoader.get_prompt(\"partials/function_calls.prompt\", tools=[\n",
    "    {\n",
    "        \"name\": \"add\",\n",
    "        \"description\": \"加法运算\",\n",
    "        \"parameters\": {\n",
    "            \"a\": {\n",
    "                \"type\": \"number\",\n",
    "                \"description\": \"加数\"\n",
    "            },\n",
    "            \"b\": {\n",
    "                \"type\": \"number\",\n",
    "                \"description\": \"被加数\"\n",
    "            }\n",
    "        }\n",
    "    },\n",
    "    {\n",
    "        \"name\": \"add1\",\n",
    "        \"description\": \"加法运算\",\n",
    "        \"parameters\": {\n",
    "            \"a\": {\n",
    "                \"type\": \"number\",\n",
    "                \"description\": \"加数\"\n",
    "            },\n",
    "            \"b\": {\n",
    "                \"type\": \"number\",\n",
    "                \"description\": \"被加数\"\n",
    "            }\n",
    "        }\n",
    "    }\n",
    "]))"
   ],
   "metadata": {
    "collapsed": false,
    "ExecuteTime": {
     "end_time": "2024-07-22T15:06:40.977788400Z",
     "start_time": "2024-07-22T15:06:40.947787800Z"
    }
   },
   "id": "854382475eb36c79",
   "execution_count": 14
  },
  {
   "cell_type": "code",
   "outputs": [
    {
     "name": "stdout",
     "output_type": "stream",
     "text": [
      "\u001B[31m2024-07-23 14:25:29 - [Project Template Manager] - ERROR - Failed to load file 'template/harmony_empty_ability_v5/AppScope/resources/base/media/app_icon.png': 'utf-8' codec can't decode byte 0x89 in position 0: invalid start byte\u001B[0m\n",
      "\u001B[31m2024-07-23 14:25:29 - [Project Template Manager] - ERROR - Failed to load file 'template/harmony_empty_ability_v5/entry/src/main/resources/base/media/background.png': 'utf-8' codec can't decode byte 0x89 in position 0: invalid start byte\u001B[0m\n",
      "\u001B[31m2024-07-23 14:25:29 - [Project Template Manager] - ERROR - Failed to load file 'template/harmony_empty_ability_v5/entry/src/main/resources/base/media/foreground.png': 'utf-8' codec can't decode byte 0x89 in position 0: invalid start byte\u001B[0m\n",
      "\u001B[31m2024-07-23 14:25:29 - [Project Template Manager] - ERROR - Failed to load file 'template/harmony_empty_ability_v5/entry/src/main/resources/base/media/startIcon.png': 'utf-8' codec can't decode byte 0x89 in position 0: invalid start byte\u001B[0m\n",
      "harmony_empty_ability_v5\n",
      "D:\\Codes\\Python\\harmony-pilot\n"
     ]
    }
   ],
   "source": [
    "import os\n",
    "os.chdir(\"D:/Codes/Python/harmony-pilot\")\n",
    "from template.harmony_empty_ability import HarmonyEmptyAbilityV5ProjectTemplate\n",
    "template = HarmonyEmptyAbilityV5ProjectTemplate()\n",
    "print(template.name)\n",
    "print(os.getcwd())"
   ],
   "metadata": {
    "collapsed": false,
    "ExecuteTime": {
     "end_time": "2024-07-23T06:25:29.972652900Z",
     "start_time": "2024-07-23T06:25:29.946380300Z"
    }
   },
   "id": "9500350d4fe4d85",
   "execution_count": 8
  },
  {
   "cell_type": "code",
   "outputs": [],
   "source": [],
   "metadata": {
    "collapsed": false
   },
   "id": "efdae8823bced08f"
  }
 ],
 "metadata": {
  "kernelspec": {
   "display_name": "Python 3",
   "language": "python",
   "name": "python3"
  },
  "language_info": {
   "codemirror_mode": {
    "name": "ipython",
    "version": 2
   },
   "file_extension": ".py",
   "mimetype": "text/x-python",
   "name": "python",
   "nbconvert_exporter": "python",
   "pygments_lexer": "ipython2",
   "version": "2.7.6"
  }
 },
 "nbformat": 4,
 "nbformat_minor": 5
}
